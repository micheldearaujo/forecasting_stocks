{
 "cells": [
  {
   "attachments": {},
   "cell_type": "markdown",
   "metadata": {},
   "source": [
    "## Exploratory Data Analysis\n",
    "### Time series analysis\n",
    "\n",
    "**Objetivo**: O objetivo deste notebook é desenvolver a fase de data quality check. Nesta iremos explorar a qualidade e estado dos dados:\n",
    "\n",
    "* Forecastability (Análise de autocorrelação);\n",
    "* Sazonalidade e tendência;\n",
    "* Estacionaridade;\n",
    "* Outliers;"
   ]
  },
  {
   "attachments": {},
   "cell_type": "markdown",
   "metadata": {},
   "source": [
    "### 1.0 Imports"
   ]
  },
  {
   "cell_type": "code",
   "execution_count": null,
   "metadata": {},
   "outputs": [],
   "source": [
    "import numpy as np\n",
    "import pandas as pd\n",
    "import matplotlib.pyplot as plt\n",
    "import seaborn as sns\n",
    "import datetime as dt\n",
    "\n",
    "# Time Series Libraries\n",
    "import statsmodels.api as sm\n",
    "from statsmodels.tsa.stattools import adfuller\n",
    "from sklearn.preprocessing import RobustScaler\n",
    "from statsmodels.tsa.seasonal import STL\n",
    "from statsmodels.graphics.tsaplots import plot_acf  # Plot de Autocorrelação - Moving Averages\n",
    "from statsmodels.graphics.tsaplots import plot_pacf  # Plot de Autocorrelação - Auto Regressive\n",
    "from pmdarima.arima.utils import ndiffs \n",
    "from statsmodels.tsa.seasonal import seasonal_decompose"
   ]
  }
 ],
 "metadata": {
  "kernelspec": {
   "display_name": "datascience",
   "language": "python",
   "name": "python3"
  },
  "language_info": {
   "name": "python",
   "version": "3.8.13 (default, Mar 28 2022, 11:38:47) \n[GCC 7.5.0]"
  },
  "orig_nbformat": 4,
  "vscode": {
   "interpreter": {
    "hash": "179745471bc5e1a4b046a4e864825b6b51d1ce27b2f34d89ff8bf2288359fb98"
   }
  }
 },
 "nbformat": 4,
 "nbformat_minor": 2
}

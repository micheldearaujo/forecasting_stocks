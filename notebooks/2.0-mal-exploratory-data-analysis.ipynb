{
 "cells": [
  {
   "attachments": {},
   "cell_type": "markdown",
   "metadata": {},
   "source": [
    "## Exploratory Data Analysis\n",
    "### Time series analysis\n",
    "\n",
    "**Objetivo**: O objetivo deste notebook é desenvolver a fase de data quality check. Nesta iremos explorar a qualidade e estado dos dados:\n",
    "\n",
    "* Data profiling;\n",
    "    * Médias;\n",
    "    * Outliers;\n",
    "    * Distribuição;\n",
    "    * Frequência de observações;\n",
    "* Forecastability (Análise de autocorrelação);\n",
    "* Sazonalidade e tendência;\n",
    "* Estacionaridade;\n",
    "\n",
    "**Conclusões**:\n",
    "\n",
    "* Outliers: Temos outliers baixos, que remetem aos primeiros 3 meses dos dados, onde os valores estão todos abaixo de R$ 90, enquanto todo o resto da série acima deste valor.\n",
    "* Distribuição:\n",
    "    * Distribuição original: Bimodal, considerando os outliers citados anteiormente.\n",
    "    * Distribuição sem outliers: Não passou nos testes de normalidade, porém é aproximada;"
   ]
  },
  {
   "attachments": {},
   "cell_type": "markdown",
   "metadata": {},
   "source": [
    "### 1.0 Imports"
   ]
  },
  {
   "cell_type": "code",
   "execution_count": 30,
   "metadata": {},
   "outputs": [],
   "source": [
    "import numpy as np\n",
    "import pandas as pd\n",
    "import matplotlib.pyplot as plt\n",
    "import seaborn as sns\n",
    "import datetime as dt\n",
    "#from pandas_profiling import ProfileReport\n",
    "\n",
    "# Time Series Libraries\n",
    "import statsmodels.api as sm\n",
    "from statsmodels.tsa.stattools import adfuller\n",
    "from sklearn.preprocessing import RobustScaler\n",
    "from statsmodels.tsa.seasonal import STL\n",
    "from statsmodels.graphics.tsaplots import plot_acf  # Plot de Autocorrelação - Moving Averages\n",
    "from statsmodels.graphics.tsaplots import plot_pacf  # Plot de Autocorrelação - Auto Regressive\n",
    "from pmdarima.arima.utils import ndiffs \n",
    "from statsmodels.tsa.seasonal import seasonal_decompose\n",
    "\n",
    "from scipy.stats import shapiro, normaltest, kstest"
   ]
  },
  {
   "attachments": {},
   "cell_type": "markdown",
   "metadata": {},
   "source": [
    "### 2.0 Data loading"
   ]
  },
  {
   "cell_type": "code",
   "execution_count": 33,
   "metadata": {},
   "outputs": [],
   "source": [
    "stock_df = pd.read_csv(\"../data/raw/raw_stock_prices.csv\")\n",
    "stock_df['Date'] = pd.to_datetime(stock_df['Date'])\n",
    "stock_df['Date'] = stock_df['Date'].apply(lambda x: x.date())\n",
    "stock_df['Date'] = pd.to_datetime(stock_df['Date'])\n",
    "stock_df = stock_df.rename(columns={\"Close\": \"preco\", \"Date\": \"data\"})"
   ]
  },
  {
   "attachments": {},
   "cell_type": "markdown",
   "metadata": {},
   "source": [
    "### 3.0 Data profilling\n"
   ]
  },
  {
   "cell_type": "code",
   "execution_count": 34,
   "metadata": {},
   "outputs": [
    {
     "name": "stdout",
     "output_type": "stream",
     "text": [
      "<class 'pandas.core.frame.DataFrame'>\n",
      "RangeIndex: 720 entries, 0 to 719\n",
      "Data columns (total 2 columns):\n",
      " #   Column  Non-Null Count  Dtype         \n",
      "---  ------  --------------  -----         \n",
      " 0   data    720 non-null    datetime64[ns]\n",
      " 1   preco   720 non-null    float64       \n",
      "dtypes: datetime64[ns](1), float64(1)\n",
      "memory usage: 11.4 KB\n"
     ]
    }
   ],
   "source": [
    "stock_df.info()"
   ]
  },
  {
   "cell_type": "code",
   "execution_count": 35,
   "metadata": {},
   "outputs": [
    {
     "data": {
      "text/html": [
       "<div>\n",
       "<style scoped>\n",
       "    .dataframe tbody tr th:only-of-type {\n",
       "        vertical-align: middle;\n",
       "    }\n",
       "\n",
       "    .dataframe tbody tr th {\n",
       "        vertical-align: top;\n",
       "    }\n",
       "\n",
       "    .dataframe thead th {\n",
       "        text-align: right;\n",
       "    }\n",
       "</style>\n",
       "<table border=\"1\" class=\"dataframe\">\n",
       "  <thead>\n",
       "    <tr style=\"text-align: right;\">\n",
       "      <th></th>\n",
       "      <th>data</th>\n",
       "      <th>preco</th>\n",
       "    </tr>\n",
       "  </thead>\n",
       "  <tbody>\n",
       "    <tr>\n",
       "      <th>0</th>\n",
       "      <td>2020-03-02</td>\n",
       "      <td>102.989998</td>\n",
       "    </tr>\n",
       "    <tr>\n",
       "      <th>1</th>\n",
       "      <td>2020-03-03</td>\n",
       "      <td>101.750000</td>\n",
       "    </tr>\n",
       "    <tr>\n",
       "      <th>2</th>\n",
       "      <td>2020-03-04</td>\n",
       "      <td>103.099998</td>\n",
       "    </tr>\n",
       "    <tr>\n",
       "      <th>3</th>\n",
       "      <td>2020-03-05</td>\n",
       "      <td>98.790001</td>\n",
       "    </tr>\n",
       "    <tr>\n",
       "      <th>4</th>\n",
       "      <td>2020-03-06</td>\n",
       "      <td>94.400002</td>\n",
       "    </tr>\n",
       "  </tbody>\n",
       "</table>\n",
       "</div>"
      ],
      "text/plain": [
       "        data       preco\n",
       "0 2020-03-02  102.989998\n",
       "1 2020-03-03  101.750000\n",
       "2 2020-03-04  103.099998\n",
       "3 2020-03-05   98.790001\n",
       "4 2020-03-06   94.400002"
      ]
     },
     "execution_count": 35,
     "metadata": {},
     "output_type": "execute_result"
    }
   ],
   "source": [
    "stock_df.head()"
   ]
  },
  {
   "cell_type": "code",
   "execution_count": 36,
   "metadata": {},
   "outputs": [],
   "source": [
    "#timeseries_report = ProfileReport(stock_df.set_index(\"Date\"), ts_mode=False, title=\"EDA de Fundo de Índice BOVA11\")\n",
    "#timeseries_report.to_file(\"../reports/BOVA11_report.html\")"
   ]
  },
  {
   "attachments": {},
   "cell_type": "markdown",
   "metadata": {},
   "source": [
    "#### 3.1 Distribuição"
   ]
  },
  {
   "cell_type": "code",
   "execution_count": 37,
   "metadata": {},
   "outputs": [
    {
     "data": {
      "text/html": [
       "<div>\n",
       "<style scoped>\n",
       "    .dataframe tbody tr th:only-of-type {\n",
       "        vertical-align: middle;\n",
       "    }\n",
       "\n",
       "    .dataframe tbody tr th {\n",
       "        vertical-align: top;\n",
       "    }\n",
       "\n",
       "    .dataframe thead th {\n",
       "        text-align: right;\n",
       "    }\n",
       "</style>\n",
       "<table border=\"1\" class=\"dataframe\">\n",
       "  <thead>\n",
       "    <tr style=\"text-align: right;\">\n",
       "      <th></th>\n",
       "      <th>preco</th>\n",
       "    </tr>\n",
       "  </thead>\n",
       "  <tbody>\n",
       "    <tr>\n",
       "      <th>count</th>\n",
       "      <td>720.000000</td>\n",
       "    </tr>\n",
       "    <tr>\n",
       "      <th>mean</th>\n",
       "      <td>104.056823</td>\n",
       "    </tr>\n",
       "    <tr>\n",
       "      <th>std</th>\n",
       "      <td>11.752078</td>\n",
       "    </tr>\n",
       "    <tr>\n",
       "      <th>min</th>\n",
       "      <td>61.139999</td>\n",
       "    </tr>\n",
       "    <tr>\n",
       "      <th>25%</th>\n",
       "      <td>98.247499</td>\n",
       "    </tr>\n",
       "    <tr>\n",
       "      <th>50%</th>\n",
       "      <td>106.040001</td>\n",
       "    </tr>\n",
       "    <tr>\n",
       "      <th>75%</th>\n",
       "      <td>112.080002</td>\n",
       "    </tr>\n",
       "    <tr>\n",
       "      <th>max</th>\n",
       "      <td>125.750000</td>\n",
       "    </tr>\n",
       "  </tbody>\n",
       "</table>\n",
       "</div>"
      ],
      "text/plain": [
       "            preco\n",
       "count  720.000000\n",
       "mean   104.056823\n",
       "std     11.752078\n",
       "min     61.139999\n",
       "25%     98.247499\n",
       "50%    106.040001\n",
       "75%    112.080002\n",
       "max    125.750000"
      ]
     },
     "execution_count": 37,
     "metadata": {},
     "output_type": "execute_result"
    }
   ],
   "source": [
    "stock_df.describe()"
   ]
  },
  {
   "cell_type": "code",
   "execution_count": 38,
   "metadata": {},
   "outputs": [
    {
     "data": {
      "image/png": "[encoded data removed]",
      "text/plain": [
       "<Figure size 1080x288 with 1 Axes>"
      ]
     },
     "metadata": {
      "needs_background": "light"
     },
     "output_type": "display_data"
    }
   ],
   "source": [
    "fig, axs = plt.subplots(figsize=(15, 4))\n",
    "sns.lineplot(\n",
    "    data=stock_df,\n",
    "    x=\"data\",\n",
    "    y=\"preco\",\n",
    "    ax=axs,\n",
    ")\n",
    "\n",
    "axs.set_title(\"Distribuição de preços - BOVA11\")\n",
    "axs.set_ylabel(\"R$\")\n",
    "\n",
    "plt.grid()\n",
    "plt.show()\n"
   ]
  },
  {
   "cell_type": "code",
   "execution_count": 39,
   "metadata": {},
   "outputs": [
    {
     "data": {
      "image/png": "[encoded data removed]",
      "text/plain": [
       "<Figure size 1080x288 with 2 Axes>"
      ]
     },
     "metadata": {
      "needs_background": "light"
     },
     "output_type": "display_data"
    }
   ],
   "source": [
    "fig, axs = plt.subplots(1, 2, figsize=(15, 4))\n",
    "sns.boxplot(\n",
    "    data=stock_df,\n",
    "    y=\"preco\",\n",
    "    ax=axs[0],\n",
    ")\n",
    "axs[0].set_title(\"Distribuição dos preços - BOVA11\")\n",
    "axs[0].set_ylabel(\"R$\")\n",
    "\n",
    "sns.histplot(\n",
    "    data=stock_df,\n",
    "    x=\"preco\",\n",
    "    ax=axs[1],\n",
    ")\n",
    "\n",
    "axs[1].set_title(\"Distribuição de preços - BOVA11\")\n",
    "axs[1].set_ylabel(\"R$\")\n",
    "\n",
    "plt.grid()\n",
    "plt.show()\n"
   ]
  },
  {
   "cell_type": "code",
   "execution_count": 40,
   "metadata": {},
   "outputs": [
    {
     "name": "stdout",
     "output_type": "stream",
     "text": [
      "Shapiro Test\n",
      "Statistics: 0.9387546181678772\n",
      " P-valor: 1.2469038344143567e-16\n",
      "K-S Test\n",
      "Statistics: 1.0\n",
      " P-valor: 0.0\n",
      "D’Agostino’s K-squared test\n",
      "Statistics: 105.51793559788781\n",
      " P-valor: 1.2220005855455668e-23\n"
     ]
    }
   ],
   "source": [
    "# Teste na distribuição original\n",
    "print(\"Shapiro Test\")\n",
    "statistics, p_value = shapiro(stock_df['preco'])\n",
    "print(f\"Statistics: {statistics}\\n P-valor: {p_value}\")\n",
    "\n",
    "print(\"K-S Test\")\n",
    "statistics, p_value = kstest(stock_df['preco'], 'norm')\n",
    "print(f\"Statistics: {statistics}\\n P-valor: {p_value}\")\n",
    "\n",
    "print(\"D’Agostino’s K-squared test\")\n",
    "statistics, p_value = normaltest(stock_df['preco'])\n",
    "print(f\"Statistics: {statistics}\\n P-valor: {p_value}\")"
   ]
  },
  {
   "cell_type": "code",
   "execution_count": 49,
   "metadata": {},
   "outputs": [
    {
     "data": {
      "image/png": "[encoded data removed]",
      "text/plain": [
       "<Figure size 1080x288 with 2 Axes>"
      ]
     },
     "metadata": {
      "needs_background": "light"
     },
     "output_type": "display_data"
    }
   ],
   "source": [
    "fig, axs = plt.subplots(1, 2, figsize=(15, 4))\n",
    "sns.boxplot(\n",
    "    data=stock_df[stock_df['data'] > pd.to_datetime('2020-09-01')],\n",
    "    y=\"preco\",\n",
    "    ax=axs[0],\n",
    ")\n",
    "axs[0].set_title(\"Distribuição dos preços - BOVA11\")\n",
    "axs[0].set_ylabel(\"R$\")\n",
    "\n",
    "sns.histplot(\n",
    "    data=stock_df[stock_df['data'] > pd.to_datetime('2020-09-01')],\n",
    "    x=\"preco\",\n",
    "    ax=axs[1],\n",
    ")\n",
    "\n",
    "axs[1].set_title(\"Distribuição de preços - BOVA11\")\n",
    "axs[1].set_ylabel(\"R$\")\n",
    "\n",
    "plt.grid()\n",
    "plt.show()\n"
   ]
  },
  {
   "cell_type": "code",
   "execution_count": null,
   "metadata": {},
   "outputs": [
    {
     "name": "stdout",
     "output_type": "stream",
     "text": [
      "Shapiro Test\n",
      "Statistics: 0.9910222291946411\n",
      " P-valor: 0.0011587348999455571\n",
      "K-S Test\n",
      "Statistics: 1.0\n",
      " P-valor: 0.0\n",
      "D’Agostino’s K-squared test\n",
      "Statistics: 9.319473667874743\n",
      " P-valor: 0.009468953981182807\n"
     ]
    }
   ],
   "source": [
    "\n",
    "# Teste na distribuição original\n",
    "print(\"Shapiro Test\")\n",
    "statistics, p_value = shapiro(stock_df[stock_df['data'] > pd.to_datetime('2020-09-01').date()]['preco'])\n",
    "print(f\"Statistics: {statistics}\\n P-valor: {p_value}\")\n",
    "\n",
    "print(\"K-S Test\")\n",
    "statistics, p_value = kstest(stock_df[stock_df['data'] > pd.to_datetime('2020-09-01').date()]['preco'], 'norm')\n",
    "print(f\"Statistics: {statistics}\\n P-valor: {p_value}\")\n",
    "\n",
    "print(\"D’Agostino’s K-squared test\")\n",
    "statistics, p_value = normaltest(stock_df[stock_df['data'] > pd.to_datetime('2020-09-01').date()]['preco'])\n",
    "print(f\"Statistics: {statistics}\\n P-valor: {p_value}\")"
   ]
  },
  {
   "attachments": {},
   "cell_type": "markdown",
   "metadata": {},
   "source": [
    "##### OBS:\n",
    "Existem outliers baixos, que se referem aos primeiros meses de observação dos dados (Até junho), onde os valores estão abaixo de R$ 90 e nunca mais voltaram a este nível. Isso faz com que tenhamos uma distrição bimodal. Provavelmente será melhor desconsiderar este período ou aumentar o histórico para atrás a fim de que haja mais observações neste nível.\n",
    "\n",
    "Mesmo removendo os outliers baixos a distribuição não se tornou normal, mas está próxima."
   ]
  },
  {
   "cell_type": "code",
   "execution_count": 43,
   "metadata": {},
   "outputs": [],
   "source": [
    "stock_mod_df= stock_df[stock_df['data'] > pd.to_datetime('2020-09-01')]"
   ]
  },
  {
   "attachments": {},
   "cell_type": "markdown",
   "metadata": {},
   "source": [
    "#### 4.0 Sazonalidade, tendência"
   ]
  },
  {
   "attachments": {},
   "cell_type": "markdown",
   "metadata": {},
   "source": [
    "#### 4.1 Decomposição manual"
   ]
  },
  {
   "cell_type": "code",
   "execution_count": 47,
   "metadata": {},
   "outputs": [
    {
     "name": "stderr",
     "output_type": "stream",
     "text": [
      "/tmp/ipykernel_26514/2279740507.py:1: SettingWithCopyWarning: \n",
      "A value is trying to be set on a copy of a slice from a DataFrame.\n",
      "Try using .loc[row_indexer,col_indexer] = value instead\n",
      "\n",
      "See the caveats in the documentation: https://pandas.pydata.org/pandas-docs/stable/user_guide/indexing.html#returning-a-view-versus-a-copy\n",
      "  stock_mod_df['day_name'] = stock_mod_df['data'].apply(lambda x: x.day_name())\n",
      "/tmp/ipykernel_26514/2279740507.py:2: SettingWithCopyWarning: \n",
      "A value is trying to be set on a copy of a slice from a DataFrame.\n",
      "Try using .loc[row_indexer,col_indexer] = value instead\n",
      "\n",
      "See the caveats in the documentation: https://pandas.pydata.org/pandas-docs/stable/user_guide/indexing.html#returning-a-view-versus-a-copy\n",
      "  stock_mod_df['day_of_month'] = stock_mod_df['data'].apply(lambda x: x.day)\n",
      "/tmp/ipykernel_26514/2279740507.py:3: SettingWithCopyWarning: \n",
      "A value is trying to be set on a copy of a slice from a DataFrame.\n",
      "Try using .loc[row_indexer,col_indexer] = value instead\n",
      "\n",
      "See the caveats in the documentation: https://pandas.pydata.org/pandas-docs/stable/user_guide/indexing.html#returning-a-view-versus-a-copy\n",
      "  stock_mod_df['month'] = stock_mod_df['data'].apply(lambda x: x.month)\n",
      "/tmp/ipykernel_26514/2279740507.py:4: SettingWithCopyWarning: \n",
      "A value is trying to be set on a copy of a slice from a DataFrame.\n",
      "Try using .loc[row_indexer,col_indexer] = value instead\n",
      "\n",
      "See the caveats in the documentation: https://pandas.pydata.org/pandas-docs/stable/user_guide/indexing.html#returning-a-view-versus-a-copy\n",
      "  stock_mod_df['day_of_week'] = stock_mod_df['data'].apply(lambda x: x.day_of_week)\n",
      "/tmp/ipykernel_26514/2279740507.py:5: SettingWithCopyWarning: \n",
      "A value is trying to be set on a copy of a slice from a DataFrame.\n",
      "Try using .loc[row_indexer,col_indexer] = value instead\n",
      "\n",
      "See the caveats in the documentation: https://pandas.pydata.org/pandas-docs/stable/user_guide/indexing.html#returning-a-view-versus-a-copy\n",
      "  stock_mod_df['quarter'] = stock_mod_df['data'].apply(lambda x: x.quarter)\n"
     ]
    }
   ],
   "source": [
    "stock_mod_df['day_name'] = stock_mod_df['data'].apply(lambda x: x.day_name())\n",
    "stock_mod_df['day_of_month'] = stock_mod_df['data'].apply(lambda x: x.day)\n",
    "stock_mod_df['month'] = stock_mod_df['data'].apply(lambda x: x.month)\n",
    "stock_mod_df['day_of_week'] = stock_mod_df['data'].apply(lambda x: x.day_of_week)\n",
    "stock_mod_df['quarter'] = stock_mod_df['data'].apply(lambda x: x.quarter)\n"
   ]
  },
  {
   "cell_type": "code",
   "execution_count": 51,
   "metadata": {},
   "outputs": [
    {
     "data": {
      "text/html": [
       "<div>\n",
       "<style scoped>\n",
       "    .dataframe tbody tr th:only-of-type {\n",
       "        vertical-align: middle;\n",
       "    }\n",
       "\n",
       "    .dataframe tbody tr th {\n",
       "        vertical-align: top;\n",
       "    }\n",
       "\n",
       "    .dataframe thead th {\n",
       "        text-align: right;\n",
       "    }\n",
       "</style>\n",
       "<table border=\"1\" class=\"dataframe\">\n",
       "  <thead>\n",
       "    <tr style=\"text-align: right;\">\n",
       "      <th></th>\n",
       "      <th>data</th>\n",
       "      <th>preco</th>\n",
       "      <th>day_of_week</th>\n",
       "      <th>day_of_month</th>\n",
       "      <th>month</th>\n",
       "      <th>quarter</th>\n",
       "      <th>day_name</th>\n",
       "    </tr>\n",
       "  </thead>\n",
       "  <tbody>\n",
       "    <tr>\n",
       "      <th>128</th>\n",
       "      <td>2020-09-02</td>\n",
       "      <td>98.150002</td>\n",
       "      <td>2</td>\n",
       "      <td>2</td>\n",
       "      <td>9</td>\n",
       "      <td>3</td>\n",
       "      <td>Wednesday</td>\n",
       "    </tr>\n",
       "    <tr>\n",
       "      <th>129</th>\n",
       "      <td>2020-09-03</td>\n",
       "      <td>96.959999</td>\n",
       "      <td>3</td>\n",
       "      <td>3</td>\n",
       "      <td>9</td>\n",
       "      <td>3</td>\n",
       "      <td>Thursday</td>\n",
       "    </tr>\n",
       "    <tr>\n",
       "      <th>130</th>\n",
       "      <td>2020-09-04</td>\n",
       "      <td>97.419998</td>\n",
       "      <td>4</td>\n",
       "      <td>4</td>\n",
       "      <td>9</td>\n",
       "      <td>3</td>\n",
       "      <td>Friday</td>\n",
       "    </tr>\n",
       "    <tr>\n",
       "      <th>131</th>\n",
       "      <td>2020-09-08</td>\n",
       "      <td>96.800003</td>\n",
       "      <td>1</td>\n",
       "      <td>8</td>\n",
       "      <td>9</td>\n",
       "      <td>3</td>\n",
       "      <td>Tuesday</td>\n",
       "    </tr>\n",
       "    <tr>\n",
       "      <th>132</th>\n",
       "      <td>2020-09-09</td>\n",
       "      <td>97.500000</td>\n",
       "      <td>2</td>\n",
       "      <td>9</td>\n",
       "      <td>9</td>\n",
       "      <td>3</td>\n",
       "      <td>Wednesday</td>\n",
       "    </tr>\n",
       "  </tbody>\n",
       "</table>\n",
       "</div>"
      ],
      "text/plain": [
       "          data      preco  day_of_week  day_of_month  month  quarter  \\\n",
       "128 2020-09-02  98.150002            2             2      9        3   \n",
       "129 2020-09-03  96.959999            3             3      9        3   \n",
       "130 2020-09-04  97.419998            4             4      9        3   \n",
       "131 2020-09-08  96.800003            1             8      9        3   \n",
       "132 2020-09-09  97.500000            2             9      9        3   \n",
       "\n",
       "      day_name  \n",
       "128  Wednesday  \n",
       "129   Thursday  \n",
       "130     Friday  \n",
       "131    Tuesday  \n",
       "132  Wednesday  "
      ]
     },
     "execution_count": 51,
     "metadata": {},
     "output_type": "execute_result"
    }
   ],
   "source": [
    "stock_mod_df.head()"
   ]
  },
  {
   "attachments": {},
   "cell_type": "markdown",
   "metadata": {},
   "source": [
    "##### 4.1.1 Por dia da semana"
   ]
  },
  {
   "cell_type": "code",
   "execution_count": 55,
   "metadata": {},
   "outputs": [
    {
     "data": {
      "image/png": "[encoded data removed]",
      "text/plain": [
       "<Figure size 1080x288 with 1 Axes>"
      ]
     },
     "metadata": {
      "needs_background": "light"
     },
     "output_type": "display_data"
    }
   ],
   "source": [
    "fig, axs = plt.subplots(figsize=(15, 4))\n",
    "sns.boxplot(\n",
    "    data=stock_mod_df,\n",
    "    x='day_name',\n",
    "    y=\"preco\",\n",
    "    ax=axs,\n",
    ")\n",
    "axs.set_title(\"Distribuição dos preços por dia da semana - BOVA11\")\n",
    "axs.set_ylabel(\"R$\")\n",
    "axs.set_xlabel(\"Dia da semana\")\n",
    "plt.show()\n"
   ]
  },
  {
   "attachments": {},
   "cell_type": "markdown",
   "metadata": {},
   "source": [
    "##### 4.1.2 Por dia do mês"
   ]
  },
  {
   "cell_type": "code",
   "execution_count": 57,
   "metadata": {},
   "outputs": [
    {
     "data": {
      "image/png": "[encoded data removed]",
      "text/plain": [
       "<Figure size 1080x288 with 1 Axes>"
      ]
     },
     "metadata": {
      "needs_background": "light"
     },
     "output_type": "display_data"
    }
   ],
   "source": [
    "fig, axs = plt.subplots(figsize=(15, 4))\n",
    "sns.boxplot(\n",
    "    data=stock_mod_df,\n",
    "    x='day_of_month',\n",
    "    y=\"preco\",\n",
    "    ax=axs,\n",
    ")\n",
    "axs.set_title(\"Distribuição dos preços por dia da semana - BOVA11\")\n",
    "axs.set_ylabel(\"R$\")\n",
    "axs.set_xlabel(\"Dia da semana\")\n",
    "plt.show()\n"
   ]
  },
  {
   "attachments": {},
   "cell_type": "markdown",
   "metadata": {},
   "source": [
    "#### 4.2 Seasonal Decompose"
   ]
  },
  {
   "cell_type": "code",
   "execution_count": 56,
   "metadata": {},
   "outputs": [],
   "source": [
    "#decomposition = seasonal_decompose(stock_mod_df.set_index(\"data\")['preco'])"
   ]
  },
  {
   "cell_type": "code",
   "execution_count": null,
   "metadata": {},
   "outputs": [],
   "source": []
  }
 ],
 "metadata": {
  "kernelspec": {
   "display_name": "datascience",
   "language": "python",
   "name": "python3"
  },
  "language_info": {
   "codemirror_mode": {
    "name": "ipython",
    "version": 3
   },
   "file_extension": ".py",
   "mimetype": "text/x-python",
   "name": "python",
   "nbconvert_exporter": "python",
   "pygments_lexer": "ipython3",
   "version": "3.8.13"
  },
  "orig_nbformat": 4,
  "vscode": {
   "interpreter": {
    "hash": "179745471bc5e1a4b046a4e864825b6b51d1ce27b2f34d89ff8bf2288359fb98"
   }
  }
 },
 "nbformat": 4,
 "nbformat_minor": 2
}

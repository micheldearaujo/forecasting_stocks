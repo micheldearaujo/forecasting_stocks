{
 "cells": [
  {
   "attachments": {},
   "cell_type": "markdown",
   "metadata": {},
   "source": [
    "## Exploratory Data Analysis\n",
    "### Time series analysis\n",
    "\n",
    "**Objetivo**: O objetivo deste notebook é desenvolver a fase de data quality check. Nesta iremos explorar a qualidade e estado dos dados:\n",
    "\n",
    "* Data profiling;\n",
    "* Forecastability (Análise de autocorrelação);\n",
    "* Sazonalidade e tendência;\n",
    "* Estacionaridade;\n",
    "* Outliers;"
   ]
  },
  {
   "attachments": {},
   "cell_type": "markdown",
   "metadata": {},
   "source": [
    "### 1.0 Imports"
   ]
  },
  {
   "cell_type": "code",
   "execution_count": 2,
   "metadata": {},
   "outputs": [],
   "source": [
    "import numpy as np\n",
    "import pandas as pd\n",
    "import matplotlib.pyplot as plt\n",
    "import seaborn as sns\n",
    "import datetime as dt\n",
    "from pandas_profiling import ProfileReport\n",
    "\n",
    "# Time Series Libraries\n",
    "import statsmodels.api as sm\n",
    "from statsmodels.tsa.stattools import adfuller\n",
    "from sklearn.preprocessing import RobustScaler\n",
    "from statsmodels.tsa.seasonal import STL\n",
    "from statsmodels.graphics.tsaplots import plot_acf  # Plot de Autocorrelação - Moving Averages\n",
    "from statsmodels.graphics.tsaplots import plot_pacf  # Plot de Autocorrelação - Auto Regressive\n",
    "from pmdarima.arima.utils import ndiffs \n",
    "from statsmodels.tsa.seasonal import seasonal_decompose"
   ]
  },
  {
   "attachments": {},
   "cell_type": "markdown",
   "metadata": {},
   "source": [
    "### 2.0 Data loading"
   ]
  },
  {
   "cell_type": "code",
   "execution_count": 17,
   "metadata": {},
   "outputs": [
    {
     "data": {
      "text/plain": [
       "'v3.6.2'"
      ]
     },
     "execution_count": 17,
     "metadata": {},
     "output_type": "execute_result"
    }
   ],
   "source": [
    "import pandas_profiling\n",
    "pandas_profiling.__version__"
   ]
  },
  {
   "cell_type": "code",
   "execution_count": 8,
   "metadata": {},
   "outputs": [],
   "source": [
    "stock_df = pd.read_csv(\"../data/raw/raw_stock_prices.csv\")"
   ]
  },
  {
   "attachments": {},
   "cell_type": "markdown",
   "metadata": {},
   "source": [
    "### 3.0 Data profilling\n",
    "Utilizando `pandas-profiling`"
   ]
  },
  {
   "cell_type": "code",
   "execution_count": 9,
   "metadata": {},
   "outputs": [],
   "source": [
    "stock_df['Date'] = pd.to_datetime(stock_df['Date'])\n",
    "stock_df['Date'] = stock_df['Date'].apply(lambda x: x.date())"
   ]
  },
  {
   "cell_type": "code",
   "execution_count": 10,
   "metadata": {},
   "outputs": [
    {
     "name": "stdout",
     "output_type": "stream",
     "text": [
      "<class 'pandas.core.frame.DataFrame'>\n",
      "RangeIndex: 720 entries, 0 to 719\n",
      "Data columns (total 2 columns):\n",
      " #   Column  Non-Null Count  Dtype  \n",
      "---  ------  --------------  -----  \n",
      " 0   Date    720 non-null    object \n",
      " 1   Close   720 non-null    float64\n",
      "dtypes: float64(1), object(1)\n",
      "memory usage: 11.4+ KB\n"
     ]
    }
   ],
   "source": [
    "stock_df.info()"
   ]
  },
  {
   "cell_type": "code",
   "execution_count": 11,
   "metadata": {},
   "outputs": [
    {
     "data": {
      "text/html": [
       "<div>\n",
       "<style scoped>\n",
       "    .dataframe tbody tr th:only-of-type {\n",
       "        vertical-align: middle;\n",
       "    }\n",
       "\n",
       "    .dataframe tbody tr th {\n",
       "        vertical-align: top;\n",
       "    }\n",
       "\n",
       "    .dataframe thead th {\n",
       "        text-align: right;\n",
       "    }\n",
       "</style>\n",
       "<table border=\"1\" class=\"dataframe\">\n",
       "  <thead>\n",
       "    <tr style=\"text-align: right;\">\n",
       "      <th></th>\n",
       "      <th>Date</th>\n",
       "      <th>Close</th>\n",
       "    </tr>\n",
       "  </thead>\n",
       "  <tbody>\n",
       "    <tr>\n",
       "      <th>0</th>\n",
       "      <td>2020-03-02</td>\n",
       "      <td>102.989998</td>\n",
       "    </tr>\n",
       "    <tr>\n",
       "      <th>1</th>\n",
       "      <td>2020-03-03</td>\n",
       "      <td>101.750000</td>\n",
       "    </tr>\n",
       "    <tr>\n",
       "      <th>2</th>\n",
       "      <td>2020-03-04</td>\n",
       "      <td>103.099998</td>\n",
       "    </tr>\n",
       "    <tr>\n",
       "      <th>3</th>\n",
       "      <td>2020-03-05</td>\n",
       "      <td>98.790001</td>\n",
       "    </tr>\n",
       "    <tr>\n",
       "      <th>4</th>\n",
       "      <td>2020-03-06</td>\n",
       "      <td>94.400002</td>\n",
       "    </tr>\n",
       "  </tbody>\n",
       "</table>\n",
       "</div>"
      ],
      "text/plain": [
       "         Date       Close\n",
       "0  2020-03-02  102.989998\n",
       "1  2020-03-03  101.750000\n",
       "2  2020-03-04  103.099998\n",
       "3  2020-03-05   98.790001\n",
       "4  2020-03-06   94.400002"
      ]
     },
     "execution_count": 11,
     "metadata": {},
     "output_type": "execute_result"
    }
   ],
   "source": [
    "stock_df.head()"
   ]
  },
  {
   "cell_type": "code",
   "execution_count": 15,
   "metadata": {},
   "outputs": [
    {
     "ename": "ValidationError",
     "evalue": "1 validation error for Settings\nts_mode\n  extra fields not permitted (type=value_error.extra)",
     "output_type": "error",
     "traceback": [
      "\u001b[0;31m---------------------------------------------------------------------------\u001b[0m",
      "\u001b[0;31mValidationError\u001b[0m                           Traceback (most recent call last)",
      "\u001b[1;32m/home/michel/Projects/mlops_practice/notebooks/2.0-mal-exploratory-data-analysis.ipynb Cell 12\u001b[0m in \u001b[0;36m<cell line: 1>\u001b[0;34m()\u001b[0m\n\u001b[0;32m----> <a href='vscode-notebook-cell:/home/michel/Projects/mlops_practice/notebooks/2.0-mal-exploratory-data-analysis.ipynb#X12sZmlsZQ%3D%3D?line=0'>1</a>\u001b[0m timeseries_report \u001b[39m=\u001b[39m ProfileReport(stock_df\u001b[39m.\u001b[39;49mset_index(\u001b[39m\"\u001b[39;49m\u001b[39mDate\u001b[39;49m\u001b[39m\"\u001b[39;49m), ts_mode\u001b[39m=\u001b[39;49m\u001b[39mFalse\u001b[39;49;00m, title\u001b[39m=\u001b[39;49m\u001b[39m\"\u001b[39;49m\u001b[39mEDA de Fundo de Índice BOVA11\u001b[39;49m\u001b[39m\"\u001b[39;49m)\n\u001b[1;32m      <a href='vscode-notebook-cell:/home/michel/Projects/mlops_practice/notebooks/2.0-mal-exploratory-data-analysis.ipynb#X12sZmlsZQ%3D%3D?line=1'>2</a>\u001b[0m timeseries_report\u001b[39m.\u001b[39mto_file(\u001b[39m\"\u001b[39m\u001b[39m../reports/BOVA11_report.html\u001b[39m\u001b[39m\"\u001b[39m)\n",
      "File \u001b[0;32m~/anaconda3/envs/datascience/lib/python3.8/site-packages/typeguard/__init__.py:1033\u001b[0m, in \u001b[0;36mtypechecked.<locals>.wrapper\u001b[0;34m(*args, **kwargs)\u001b[0m\n\u001b[1;32m   1031\u001b[0m memo \u001b[39m=\u001b[39m _CallMemo(python_func, _localns, args\u001b[39m=\u001b[39margs, kwargs\u001b[39m=\u001b[39mkwargs)\n\u001b[1;32m   1032\u001b[0m check_argument_types(memo)\n\u001b[0;32m-> 1033\u001b[0m retval \u001b[39m=\u001b[39m func(\u001b[39m*\u001b[39;49margs, \u001b[39m*\u001b[39;49m\u001b[39m*\u001b[39;49mkwargs)\n\u001b[1;32m   1034\u001b[0m \u001b[39mtry\u001b[39;00m:\n\u001b[1;32m   1035\u001b[0m     check_return_type(retval, memo)\n",
      "File \u001b[0;32m~/anaconda3/envs/datascience/lib/python3.8/site-packages/pandas_profiling/profile_report.py:127\u001b[0m, in \u001b[0;36mProfileReport.__init__\u001b[0;34m(self, df, minimal, explorative, sensitive, dark_mode, orange_mode, tsmode, sortby, sample, config_file, lazy, typeset, summarizer, config, **kwargs)\u001b[0m\n\u001b[1;32m    124\u001b[0m     report_config\u001b[39m.\u001b[39mhtml\u001b[39m.\u001b[39mstyle\u001b[39m.\u001b[39m_labels \u001b[39m=\u001b[39m config\u001b[39m.\u001b[39mhtml\u001b[39m.\u001b[39mstyle\u001b[39m.\u001b[39m_labels\n\u001b[1;32m    126\u001b[0m \u001b[39mif\u001b[39;00m kwargs:\n\u001b[0;32m--> 127\u001b[0m     report_config \u001b[39m=\u001b[39m report_config\u001b[39m.\u001b[39;49mupdate(kwargs)\n\u001b[1;32m    129\u001b[0m report_config\u001b[39m.\u001b[39mvars\u001b[39m.\u001b[39mtimeseries\u001b[39m.\u001b[39mactive \u001b[39m=\u001b[39m tsmode\n\u001b[1;32m    130\u001b[0m \u001b[39mif\u001b[39;00m tsmode \u001b[39mand\u001b[39;00m sortby:\n",
      "File \u001b[0;32m~/anaconda3/envs/datascience/lib/python3.8/site-packages/pandas_profiling/config.py:337\u001b[0m, in \u001b[0;36mSettings.update\u001b[0;34m(self, updates)\u001b[0m\n\u001b[1;32m    335\u001b[0m \u001b[39mdef\u001b[39;00m \u001b[39mupdate\u001b[39m(\u001b[39mself\u001b[39m, updates: \u001b[39mdict\u001b[39m) \u001b[39m-\u001b[39m\u001b[39m>\u001b[39m \u001b[39m\"\u001b[39m\u001b[39mSettings\u001b[39m\u001b[39m\"\u001b[39m:\n\u001b[1;32m    336\u001b[0m     update \u001b[39m=\u001b[39m _merge_dictionaries(\u001b[39mself\u001b[39m\u001b[39m.\u001b[39mdict(), updates)\n\u001b[0;32m--> 337\u001b[0m     \u001b[39mreturn\u001b[39;00m \u001b[39mself\u001b[39;49m\u001b[39m.\u001b[39;49mparse_obj(\u001b[39mself\u001b[39;49m\u001b[39m.\u001b[39;49mcopy(update\u001b[39m=\u001b[39;49mupdate))\n",
      "File \u001b[0;32m~/anaconda3/envs/datascience/lib/python3.8/site-packages/pydantic/main.py:578\u001b[0m, in \u001b[0;36mpydantic.main.BaseModel.parse_obj\u001b[0;34m()\u001b[0m\n",
      "File \u001b[0;32m~/anaconda3/envs/datascience/lib/python3.8/site-packages/pydantic/env_settings.py:36\u001b[0m, in \u001b[0;36mpydantic.env_settings.BaseSettings.__init__\u001b[0;34m()\u001b[0m\n",
      "File \u001b[0;32m~/anaconda3/envs/datascience/lib/python3.8/site-packages/pydantic/main.py:406\u001b[0m, in \u001b[0;36mpydantic.main.BaseModel.__init__\u001b[0;34m()\u001b[0m\n",
      "\u001b[0;31mValidationError\u001b[0m: 1 validation error for Settings\nts_mode\n  extra fields not permitted (type=value_error.extra)"
     ]
    }
   ],
   "source": [
    "timeseries_report = ProfileReport(stock_df.set_index(\"Date\"), ts_mode=False, title=\"EDA de Fundo de Índice BOVA11\")\n",
    "timeseries_report.to_file(\"../reports/BOVA11_report.html\")"
   ]
  },
  {
   "cell_type": "code",
   "execution_count": null,
   "metadata": {},
   "outputs": [],
   "source": []
  }
 ],
 "metadata": {
  "kernelspec": {
   "display_name": "datascience",
   "language": "python",
   "name": "python3"
  },
  "language_info": {
   "codemirror_mode": {
    "name": "ipython",
    "version": 3
   },
   "file_extension": ".py",
   "mimetype": "text/x-python",
   "name": "python",
   "nbconvert_exporter": "python",
   "pygments_lexer": "ipython3",
   "version": "3.8.13"
  },
  "orig_nbformat": 4,
  "vscode": {
   "interpreter": {
    "hash": "179745471bc5e1a4b046a4e864825b6b51d1ce27b2f34d89ff8bf2288359fb98"
   }
  }
 },
 "nbformat": 4,
 "nbformat_minor": 2
}
